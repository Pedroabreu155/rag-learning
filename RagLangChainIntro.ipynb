{
 "cells": [
  {
   "cell_type": "code",
   "execution_count": 1,
   "id": "751eb543",
   "metadata": {},
   "outputs": [
    {
     "name": "stdout",
     "output_type": "stream",
     "text": [
      "Requirement already satisfied: python-dotenv in /home/pedro/miniconda3/envs/rag/lib/python3.11/site-packages (1.1.0)\n",
      "Note: you may need to restart the kernel to use updated packages.\n"
     ]
    }
   ],
   "source": [
    "%pip install python-dotenv\n",
    "import dotenv\n",
    "%load_ext dotenv\n",
    "%dotenv"
   ]
  },
  {
   "cell_type": "code",
   "execution_count": 2,
   "id": "187e92db",
   "metadata": {},
   "outputs": [],
   "source": [
    "#Import das dependencias\n",
    "from langchain_text_splitters import RecursiveCharacterTextSplitter \n",
    "from langchain_openai import OpenAIEmbeddings\n",
    "from langchain_openai import ChatOpenAI\n",
    "from langchain_community.vectorstores import Chroma\n",
    "from langchain_community.document_loaders import PyPDFLoader\n",
    "from langchain.chains.question_answering import load_qa_chain"
   ]
  },
  {
   "cell_type": "code",
   "execution_count": 3,
   "id": "fc0573e6",
   "metadata": {},
   "outputs": [],
   "source": [
    "#definição dos modelos a serem usados da OPEN AI\n",
    "embeddings_model = OpenAIEmbeddings()\n",
    "llm = ChatOpenAI(model_name=\"gpt-3.5-turbo\", max_tokens=200)"
   ]
  },
  {
   "cell_type": "code",
   "execution_count": 21,
   "id": "ed9b0274",
   "metadata": {},
   "outputs": [],
   "source": [
    "#Carregamento do PDF para o rag\n",
    "pdf = \"DOC-SF238339076816-20230503.pdf\"\n",
    "pdf_loader = PyPDFLoader(pdf, extract_images=False)\n",
    "pages = pdf_loader.load_and_split()"
   ]
  },
  {
   "cell_type": "code",
   "execution_count": 22,
   "id": "9f77ccfb",
   "metadata": {},
   "outputs": [],
   "source": [
    "#Separar o arquivo em chunks\n",
    "\n",
    "text_splitter = RecursiveCharacterTextSplitter(chunk_size=2000, chunk_overlap=20, length_function=len, add_start_index=True)\n",
    "\n",
    "chunks = text_splitter.split_documents(pages)"
   ]
  },
  {
   "cell_type": "code",
   "execution_count": 23,
   "id": "2c72e518",
   "metadata": {},
   "outputs": [],
   "source": [
    "#Salvar no banco vetorial\n",
    "\n",
    "db = Chroma.from_documents(chunks, embedding=embeddings_model, persist_directory=\"vectors\")\n",
    "\n",
    "db.persist()"
   ]
  },
  {
   "cell_type": "code",
   "execution_count": 24,
   "id": "7025edd9",
   "metadata": {},
   "outputs": [],
   "source": [
    "#Carregar os vetores\n",
    "vectordb = Chroma(persist_directory=\"vectors\", embedding_function=embeddings_model)\n",
    "\n",
    "#load retriever - buscar chunks relevantes\n",
    "retriever = vectordb.as_retriever(search_kwargs={\"k\": 3})\n",
    "\n",
    "#cadeia de prompt para a chamada do LLM\n",
    "chain = load_qa_chain(llm, chain_type=\"stuff\")"
   ]
  },
  {
   "cell_type": "code",
   "execution_count": 31,
   "id": "8961ad5c",
   "metadata": {},
   "outputs": [],
   "source": [
    "def ask(question):\n",
    "    context = retriever.get_relevant_documents(question)\n",
    "    answer = chain({\"input_documents\": context, \"question\": question}, return_only_outputs=True)[\"output_text\"]\n",
    "    return answer, context\n",
    "\n"
   ]
  },
  {
   "cell_type": "code",
   "execution_count": 32,
   "id": "f0a5d87f",
   "metadata": {},
   "outputs": [
    {
     "name": "stdin",
     "output_type": "stream",
     "text": [
      "User:  Do que se trata o capítulo IX?\n"
     ]
    },
    {
     "name": "stdout",
     "output_type": "stream",
     "text": [
      "Answer:  O Capítulo IX trata da \"rastreabilidade das decisões durante o ciclo de vida de sistemas de inteligência artificial como meio de prestação de contas e atribuição de responsabilidades a uma pessoa natural ou jurídica\".\n"
     ]
    }
   ],
   "source": [
    "user_question = input(\"User: \")\n",
    "answer, context = ask(user_question)\n",
    "print(\"Answer: \", answer)"
   ]
  },
  {
   "cell_type": "code",
   "execution_count": 33,
   "id": "c0877dc3-8b46-4ec4-a57b-68501bc4126c",
   "metadata": {},
   "outputs": [
    {
     "name": "stdout",
     "output_type": "stream",
     "text": [
      "page_content='VIII – a privacidade, a proteção de dados e a autodeterminação \n",
      "informativa; \n",
      "IX – a promoção da pesquisa e do desenvolvimento com a \n",
      "finalidade de estimular a inovação nos setores produtivos e no poder público; e \n",
      "X – o acesso à informação e à educação, e a conscientização sobre \n",
      "os sistemas de inteligência artificial e suas aplicações. \n",
      "Art. 3º O desenvolvimento, a implementação e o uso de sistemas \n",
      "de inteligência artificial observarão a boa-fé e os seguintes princípios: \n",
      "I – crescimento inclusivo, desenvolvimento sustentável e bem-\n",
      "estar; \n",
      "II – autodeterminação e liberdade de decisão e de escolha; \n",
      "III – participação humana no ciclo da inteligência artificial e \n",
      "supervisão humana efetiva; \n",
      "IV – não discriminação; \n",
      "V – justiça, equidade e inclusão; \n",
      "VI – transparência, explicabilidade, inteligibilidade e \n",
      "auditabilidade; \n",
      "VII – confiabilidade e robustez dos sistemas de inteligência \n",
      "artificial e segurança da informação; \n",
      "VIII – devido processo legal, contestabilidade e contraditório; \n",
      "IX – rastreabilidade das decisões durante o ciclo de vida de \n",
      "sistemas de inteligência artificial como meio de prestação de contas e atribuição \n",
      "de responsabilidades a uma pessoa natural ou jurídica; \n",
      "X – prestação de contas, responsabilização e reparação integral de \n",
      "danos; \n",
      "XI – prevenção, precaução e mitigação de riscos sistêmicos \n",
      "derivados de usos intencionais ou não intencionais e de efeitos não previstos de \n",
      "sistemas de inteligência artificial; e \n",
      "SF/23833.90768-16' metadata={'moddate': '2023-05-03T19:15:38-03:00', 'page': 1, 'author': 'fredfqd', 'total_pages': 31, 'start_index': 0, 'page_label': '2', 'producer': 'Aspose.Words for Java 23.3.0; modified using iText® 5.5.11 ©2000-2017 iText Group NV (AGPL-version)', 'creationdate': '2023-05-03T18:22:00+00:00', 'creator': 'Microsoft Office Word', 'source': 'DOC-SF238339076816-20230503.pdf'}\n"
     ]
    }
   ],
   "source": [
    "print(context[0])"
   ]
  },
  {
   "cell_type": "code",
   "execution_count": null,
   "id": "347f447b-cf7c-4ec7-bf07-09dd6bcede5a",
   "metadata": {},
   "outputs": [],
   "source": []
  }
 ],
 "metadata": {
  "kernelspec": {
   "display_name": "Python 3 (ipykernel)",
   "language": "python",
   "name": "python3"
  },
  "language_info": {
   "codemirror_mode": {
    "name": "ipython",
    "version": 3
   },
   "file_extension": ".py",
   "mimetype": "text/x-python",
   "name": "python",
   "nbconvert_exporter": "python",
   "pygments_lexer": "ipython3",
   "version": "3.11.11"
  }
 },
 "nbformat": 4,
 "nbformat_minor": 5
}
