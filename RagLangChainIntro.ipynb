{
 "cells": [
  {
   "cell_type": "code",
   "execution_count": 2,
   "id": "751eb543",
   "metadata": {},
   "outputs": [],
   "source": [
    "valor = 1\n",
    "valor_dois = 2\n",
    "valor_total = valor + valor_dois"
   ]
  },
  {
   "cell_type": "code",
   "execution_count": 3,
   "id": "187e92db",
   "metadata": {},
   "outputs": [
    {
     "name": "stdout",
     "output_type": "stream",
     "text": [
      "3\n"
     ]
    }
   ],
   "source": [
    "print(valor_total)"
   ]
  }
 ],
 "metadata": {
  "kernelspec": {
   "display_name": "rag",
   "language": "python",
   "name": "python3"
  },
  "language_info": {
   "codemirror_mode": {
    "name": "ipython",
    "version": 3
   },
   "file_extension": ".py",
   "mimetype": "text/x-python",
   "name": "python",
   "nbconvert_exporter": "python",
   "pygments_lexer": "ipython3",
   "version": "3.11.11"
  }
 },
 "nbformat": 4,
 "nbformat_minor": 5
}
